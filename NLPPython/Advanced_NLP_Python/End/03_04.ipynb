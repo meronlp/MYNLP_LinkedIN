{
 "cells": [
  {
   "cell_type": "markdown",
   "metadata": {},
   "source": [
    "# doc2vec: How To Prep Document Vectors For Modeling"
   ]
  },
  {
   "cell_type": "markdown",
   "metadata": {},
   "source": [
    "### Train Our Own Model"
   ]
  },
  {
   "cell_type": "code",
   "execution_count": 3,
   "metadata": {},
   "outputs": [],
   "source": [
    "# Read in data, clean it, split it into train/test, and then train a doc2vec model\n",
    "import gensim\n",
    "import pandas as pd\n",
    "from sklearn.model_selection import train_test_split\n",
    "pd.set_option('display.max_colwidth', 100)\n",
    "\n",
    "messages = pd.read_csv('./data/spam.csv', encoding='latin-1')\n",
    "messages = messages.drop(labels = [\"Unnamed: 2\", \"Unnamed: 3\", \"Unnamed: 4\"], axis = 1)\n",
    "messages.columns = [\"label\", \"text\"]\n",
    "messages['text_clean'] = messages['text'].apply(lambda x: gensim.utils.simple_preprocess(x))\n",
    "\n",
    "X_train, X_test, y_train, y_test = train_test_split(messages['text_clean'],\n",
    "                                                    messages['label'], test_size=0.2)\n",
    "\n",
    "tagged_docs_tr = [gensim.models.doc2vec.TaggedDocument(v, [i]) for i, v in enumerate(X_train)]\n",
    "\n",
    "d2v_model = gensim.models.Doc2Vec(tagged_docs_tr,\n",
    "                                  vector_size=50,\n",
    "                                  window=2,\n",
    "                                  min_count=2)"
   ]
  },
  {
   "cell_type": "code",
   "execution_count": 4,
   "metadata": {},
   "outputs": [
    {
     "data": {
      "text/plain": [
       "array([-0.00223999,  0.03092504, -0.02568993, -0.00651456,  0.01916563,\n",
       "        0.01409216,  0.02003875, -0.00164311,  0.01763399,  0.0127966 ,\n",
       "        0.00174322, -0.01305726, -0.01087248,  0.00866375, -0.00808258,\n",
       "       -0.00032593,  0.00306376,  0.00573037,  0.00610256,  0.00540724,\n",
       "        0.01788834,  0.00490345, -0.00707625,  0.00749594, -0.00381669,\n",
       "        0.00830477,  0.0034937 , -0.02223584,  0.0074174 , -0.04034732,\n",
       "        0.01535527,  0.00841337,  0.01270446, -0.00759514,  0.00551915,\n",
       "        0.01319627,  0.02114359, -0.00406029,  0.00826719, -0.02416349,\n",
       "       -0.03040799,  0.01991861,  0.00223912,  0.00991465, -0.00321651,\n",
       "        0.00529554, -0.0039208 ,  0.00195342, -0.0145929 , -0.00801031],\n",
       "      dtype=float32)"
      ]
     },
     "execution_count": 4,
     "metadata": {},
     "output_type": "execute_result"
    }
   ],
   "source": [
    "# What does a document vector look like again?\n",
    "d2v_model.infer_vector(['convert', 'words', 'to', 'vectors'])"
   ]
  },
  {
   "cell_type": "code",
   "execution_count": 5,
   "metadata": {},
   "outputs": [],
   "source": [
    "# How do we prepare these vectors to be used in a machine learning model?\n",
    "vectors = [[d2v_model.infer_vector(words)] for words in X_test]"
   ]
  },
  {
   "cell_type": "code",
   "execution_count": 6,
   "metadata": {},
   "outputs": [
    {
     "data": {
      "text/plain": [
       "[array([ 9.2734741e-03,  1.5907744e-02, -1.8306768e-02, -1.5793180e-03,\n",
       "         1.1259109e-02,  3.2479751e-03,  4.6172463e-03,  5.7845297e-03,\n",
       "         5.7343203e-03, -2.2283394e-03, -2.4835053e-05, -3.9620674e-03,\n",
       "        -6.9302493e-03,  1.0336571e-02, -5.7271337e-03,  1.0754590e-02,\n",
       "        -2.5866034e-03,  3.8556831e-03,  4.5978748e-03, -2.4803187e-04,\n",
       "         3.1958139e-03, -2.6513098e-04,  6.1638281e-03,  1.0079889e-02,\n",
       "         5.0878022e-03, -5.1590330e-03,  6.4219343e-03, -1.4522783e-02,\n",
       "        -3.0778984e-03, -2.2083016e-02,  3.0804558e-03,  6.9144899e-03,\n",
       "        -1.8444980e-03,  1.8188327e-03,  4.8809387e-03,  1.3200398e-02,\n",
       "         2.9060214e-03, -1.1990400e-02, -5.7515320e-03, -2.7854140e-03,\n",
       "        -2.5148269e-02,  1.3689516e-02, -3.3221797e-03,  8.8276602e-03,\n",
       "        -2.2166686e-03, -2.0544226e-03,  3.0670504e-03,  3.1069631e-03,\n",
       "        -4.5032874e-03, -1.0905600e-02], dtype=float32)]"
      ]
     },
     "execution_count": 6,
     "metadata": {},
     "output_type": "execute_result"
    }
   ],
   "source": [
    "vectors[0]"
   ]
  },
  {
   "cell_type": "code",
   "execution_count": null,
   "metadata": {},
   "outputs": [],
   "source": []
  }
 ],
 "metadata": {
  "kernelspec": {
   "display_name": "Python 3",
   "language": "python",
   "name": "python3"
  },
  "language_info": {
   "codemirror_mode": {
    "name": "ipython",
    "version": 3
   },
   "file_extension": ".py",
   "mimetype": "text/x-python",
   "name": "python",
   "nbconvert_exporter": "python",
   "pygments_lexer": "ipython3",
   "version": "3.8.5"
  }
 },
 "nbformat": 4,
 "nbformat_minor": 1
}
