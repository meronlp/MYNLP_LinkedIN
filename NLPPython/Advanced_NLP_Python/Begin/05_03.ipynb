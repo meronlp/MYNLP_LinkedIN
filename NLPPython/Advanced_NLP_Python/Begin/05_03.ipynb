{
 "cells": [
  {
   "cell_type": "markdown",
   "metadata": {},
   "source": [
    "# Compare NLP Techniques: Build Model On word2vec Vectors"
   ]
  },
  {
   "cell_type": "markdown",
   "metadata": {},
   "source": [
    "### Read In Cleaned Text"
   ]
  },
  {
   "cell_type": "code",
   "execution_count": 1,
   "metadata": {},
   "outputs": [],
   "source": [
    "# Load the cleaned training and test sets\n",
    "import gensim\n",
    "import numpy as np\n",
    "import pandas as pd\n",
    "\n",
    "X_train = pd.read_csv('./data/X_train.csv')\n",
    "X_test = pd.read_csv('./data/X_test.csv')\n",
    "y_train = pd.read_csv('./data/y_train.csv')\n",
    "y_test = pd.read_csv('./data/y_test.csv')"
   ]
  },
  {
   "cell_type": "markdown",
   "metadata": {},
   "source": [
    "### Create word2vec Vectors"
   ]
  },
  {
   "cell_type": "code",
   "execution_count": 2,
   "metadata": {},
   "outputs": [],
   "source": [
    "# Train a basic word2vec model\n",
    "w2v_model = gensim.models.Word2Vec(X_train,\n",
    "                                   size=100,\n",
    "                                   window=5,\n",
    "                                   min_count=2)"
   ]
  },
  {
   "cell_type": "code",
   "execution_count": 7,
   "metadata": {},
   "outputs": [
    {
     "name": "stderr",
     "output_type": "stream",
     "text": [
      "<ipython-input-7-4e0c4914557f>:4: VisibleDeprecationWarning: Creating an ndarray from ragged nested sequences (which is a list-or-tuple of lists-or-tuples-or ndarrays with different lengths or shapes) is deprecated. If you meant to do this, you must specify 'dtype=object' when creating the ndarray\n",
      "  X_train_vect = np.array([np.array([w2v_model.wv[i] for i in ls if i in words])\n",
      "<ipython-input-7-4e0c4914557f>:6: VisibleDeprecationWarning: Creating an ndarray from ragged nested sequences (which is a list-or-tuple of lists-or-tuples-or ndarrays with different lengths or shapes) is deprecated. If you meant to do this, you must specify 'dtype=object' when creating the ndarray\n",
      "  X_test_vect = np.array([np.array([w2v_model.wv[i] for i in ls if i in words])\n"
     ]
    }
   ],
   "source": [
    "# Replace the words in each text message with the learned word vector\n",
    "words = set(w2v_model.wv.index2word)\n",
    "\n",
    "X_train_vect = np.array([np.array([w2v_model.wv[i] for i in ls if i in words])\n",
    "                         for ls in X_train['clean_text']])\n",
    "X_test_vect = np.array([np.array([w2v_model.wv[i] for i in ls if i in words])\n",
    "                         for ls in X_test['clean_text']])"
   ]
  },
  {
   "cell_type": "code",
   "execution_count": 8,
   "metadata": {},
   "outputs": [],
   "source": [
    "# Average the word vectors for each sentence (and assign a vector of zeros if the model\n",
    "# did not learn any of the words in the text message during training\n",
    "X_train_vect_avg = []\n",
    "for v in X_train_vect:\n",
    "    if v.size:\n",
    "        X_train_vect_avg.append(v.mean(axis=0))\n",
    "    else:\n",
    "        X_train_vect_avg.append(np.zeros(100, dtype=float))\n",
    "        \n",
    "X_test_vect_avg = []\n",
    "for v in X_test_vect:\n",
    "    if v.size:\n",
    "        X_test_vect_avg.append(v.mean(axis=0))\n",
    "    else:\n",
    "        X_test_vect_avg.append(np.zeros(100, dtype=float))"
   ]
  },
  {
   "cell_type": "code",
   "execution_count": 10,
   "metadata": {},
   "outputs": [
    {
     "data": {
      "text/plain": [
       "array([[ 5.9639569e-04,  7.3035160e-04, -3.8827457e-03,  5.8789278e-04,\n",
       "        -4.2779152e-03, -6.8040134e-04,  4.9140695e-03,  3.9929179e-03,\n",
       "        -6.0071843e-04,  5.6044763e-04, -4.2864536e-03, -2.5919455e-03,\n",
       "        -6.7205669e-04, -8.9368370e-04,  4.8545515e-03,  1.0402094e-03,\n",
       "        -1.7739738e-03,  2.6903355e-03, -4.3217693e-03,  1.7335152e-03,\n",
       "        -4.1503562e-03, -7.0833758e-04, -3.8211327e-03,  3.9190855e-03,\n",
       "         1.3686051e-03, -2.1762033e-03,  2.2074300e-05,  4.6246266e-03,\n",
       "         2.9554672e-03, -2.2591446e-03, -1.8773340e-03,  4.1531795e-03,\n",
       "         1.1565351e-03,  8.5715420e-04, -1.9132494e-03,  6.8562466e-04,\n",
       "         4.2995992e-03, -4.8008002e-03, -3.7418474e-03,  1.6722732e-03,\n",
       "        -1.6568202e-04,  4.6566953e-03,  3.0433354e-03, -7.9261292e-05,\n",
       "         4.5219203e-03,  3.0972885e-03,  3.4422444e-03, -2.5187277e-03,\n",
       "        -4.5196275e-04,  4.0694904e-03,  2.9836893e-03,  2.6207906e-03,\n",
       "        -4.1318708e-03,  1.0546823e-03, -7.9928992e-05,  3.7957758e-03,\n",
       "         1.0082554e-03,  2.2532979e-03, -4.3917056e-03,  5.5726990e-04,\n",
       "        -3.3650445e-04,  4.8120120e-03, -4.2633368e-03, -2.3502517e-03,\n",
       "        -2.3672327e-03,  1.1150489e-03, -2.5857512e-03,  1.3173708e-04,\n",
       "         2.1816629e-03,  4.0628316e-04,  4.3863677e-03, -2.7622103e-03,\n",
       "        -3.6959329e-03,  3.5373478e-03,  1.1691662e-03,  4.0964829e-03,\n",
       "        -2.9757828e-04,  1.7918715e-03,  2.5188678e-04, -4.8823883e-03,\n",
       "         5.7644170e-04,  2.4186803e-03, -1.2610006e-04,  4.6442687e-03,\n",
       "         4.3452792e-03,  3.6194199e-03,  1.8303450e-03,  3.6938384e-03,\n",
       "        -1.3333337e-03, -8.6320104e-04, -8.2696410e-05, -1.9947115e-04,\n",
       "         1.9372583e-03, -2.1375255e-03,  3.6865298e-03,  4.1739964e-03,\n",
       "        -2.1104068e-03,  6.6911499e-04, -4.9752938e-03, -7.7442260e-04],\n",
       "       [ 4.8905786e-04, -3.7897588e-03, -2.4194533e-03, -4.6803439e-03,\n",
       "         2.9009567e-03,  3.5684428e-03, -3.6950579e-03,  5.4255431e-04,\n",
       "        -4.7288248e-03,  4.8168940e-03, -7.2673621e-04, -3.9115273e-03,\n",
       "        -4.7958628e-04,  3.8685333e-03,  2.1753083e-03, -1.4133665e-03,\n",
       "         1.9363556e-03,  2.4497083e-03,  4.5114928e-03, -4.4705109e-03,\n",
       "         3.6950989e-03, -1.2923756e-03, -4.4054301e-03, -2.9343127e-03,\n",
       "         3.9535034e-03, -4.6264576e-03,  1.6362892e-03,  3.7068294e-03,\n",
       "        -3.1646271e-04, -1.2904808e-03,  3.3019995e-03, -4.3735518e-03,\n",
       "        -1.5878786e-03, -2.7858356e-03,  4.6751588e-03, -9.1102190e-04,\n",
       "        -5.1997387e-04, -3.7100114e-04, -4.5767208e-03, -1.9009631e-04,\n",
       "         1.8602681e-03, -4.7200806e-03,  2.1299638e-03, -1.5712149e-03,\n",
       "         4.9817772e-03,  2.5797836e-03,  2.1510117e-03, -3.9575025e-03,\n",
       "        -4.7202623e-03,  4.8823813e-03, -4.7429972e-03, -1.9940238e-04,\n",
       "         1.7885130e-03,  3.4989514e-03,  2.1514753e-03, -5.2375975e-04,\n",
       "         4.5974934e-03, -4.3593873e-03,  4.9597900e-03, -2.0011435e-03,\n",
       "         2.2883615e-03,  2.3873555e-03,  1.3838644e-03,  3.6992710e-03,\n",
       "         4.9012771e-04,  4.0061777e-03, -4.8205499e-03, -1.9138526e-03,\n",
       "         1.6246292e-04, -3.7861583e-03,  4.1888668e-03,  2.6824828e-03,\n",
       "        -4.3079816e-03, -4.2499565e-03, -3.1792577e-03,  2.3646685e-03,\n",
       "        -3.9491211e-03,  2.0466656e-04,  3.6004935e-03, -3.0187271e-03,\n",
       "         2.6101493e-03, -9.0506009e-04, -1.3458087e-04,  2.7703235e-03,\n",
       "        -4.7711153e-03,  4.1639539e-03,  2.1341611e-03, -1.2291384e-04,\n",
       "        -2.6639628e-03, -2.2443174e-03, -4.5450423e-03,  4.5828479e-03,\n",
       "        -4.4101104e-03,  1.5982443e-03, -2.8794718e-03,  2.0271889e-03,\n",
       "         4.0598363e-03, -4.9140789e-03, -1.0469538e-03, -1.8500375e-03],\n",
       "       [ 4.8905786e-04, -3.7897588e-03, -2.4194533e-03, -4.6803439e-03,\n",
       "         2.9009567e-03,  3.5684428e-03, -3.6950579e-03,  5.4255431e-04,\n",
       "        -4.7288248e-03,  4.8168940e-03, -7.2673621e-04, -3.9115273e-03,\n",
       "        -4.7958628e-04,  3.8685333e-03,  2.1753083e-03, -1.4133665e-03,\n",
       "         1.9363556e-03,  2.4497083e-03,  4.5114928e-03, -4.4705109e-03,\n",
       "         3.6950989e-03, -1.2923756e-03, -4.4054301e-03, -2.9343127e-03,\n",
       "         3.9535034e-03, -4.6264576e-03,  1.6362892e-03,  3.7068294e-03,\n",
       "        -3.1646271e-04, -1.2904808e-03,  3.3019995e-03, -4.3735518e-03,\n",
       "        -1.5878786e-03, -2.7858356e-03,  4.6751588e-03, -9.1102190e-04,\n",
       "        -5.1997387e-04, -3.7100114e-04, -4.5767208e-03, -1.9009631e-04,\n",
       "         1.8602681e-03, -4.7200806e-03,  2.1299638e-03, -1.5712149e-03,\n",
       "         4.9817772e-03,  2.5797836e-03,  2.1510117e-03, -3.9575025e-03,\n",
       "        -4.7202623e-03,  4.8823813e-03, -4.7429972e-03, -1.9940238e-04,\n",
       "         1.7885130e-03,  3.4989514e-03,  2.1514753e-03, -5.2375975e-04,\n",
       "         4.5974934e-03, -4.3593873e-03,  4.9597900e-03, -2.0011435e-03,\n",
       "         2.2883615e-03,  2.3873555e-03,  1.3838644e-03,  3.6992710e-03,\n",
       "         4.9012771e-04,  4.0061777e-03, -4.8205499e-03, -1.9138526e-03,\n",
       "         1.6246292e-04, -3.7861583e-03,  4.1888668e-03,  2.6824828e-03,\n",
       "        -4.3079816e-03, -4.2499565e-03, -3.1792577e-03,  2.3646685e-03,\n",
       "        -3.9491211e-03,  2.0466656e-04,  3.6004935e-03, -3.0187271e-03,\n",
       "         2.6101493e-03, -9.0506009e-04, -1.3458087e-04,  2.7703235e-03,\n",
       "        -4.7711153e-03,  4.1639539e-03,  2.1341611e-03, -1.2291384e-04,\n",
       "        -2.6639628e-03, -2.2443174e-03, -4.5450423e-03,  4.5828479e-03,\n",
       "        -4.4101104e-03,  1.5982443e-03, -2.8794718e-03,  2.0271889e-03,\n",
       "         4.0598363e-03, -4.9140789e-03, -1.0469538e-03, -1.8500375e-03],\n",
       "       [ 5.9639569e-04,  7.3035160e-04, -3.8827457e-03,  5.8789278e-04,\n",
       "        -4.2779152e-03, -6.8040134e-04,  4.9140695e-03,  3.9929179e-03,\n",
       "        -6.0071843e-04,  5.6044763e-04, -4.2864536e-03, -2.5919455e-03,\n",
       "        -6.7205669e-04, -8.9368370e-04,  4.8545515e-03,  1.0402094e-03,\n",
       "        -1.7739738e-03,  2.6903355e-03, -4.3217693e-03,  1.7335152e-03,\n",
       "        -4.1503562e-03, -7.0833758e-04, -3.8211327e-03,  3.9190855e-03,\n",
       "         1.3686051e-03, -2.1762033e-03,  2.2074300e-05,  4.6246266e-03,\n",
       "         2.9554672e-03, -2.2591446e-03, -1.8773340e-03,  4.1531795e-03,\n",
       "         1.1565351e-03,  8.5715420e-04, -1.9132494e-03,  6.8562466e-04,\n",
       "         4.2995992e-03, -4.8008002e-03, -3.7418474e-03,  1.6722732e-03,\n",
       "        -1.6568202e-04,  4.6566953e-03,  3.0433354e-03, -7.9261292e-05,\n",
       "         4.5219203e-03,  3.0972885e-03,  3.4422444e-03, -2.5187277e-03,\n",
       "        -4.5196275e-04,  4.0694904e-03,  2.9836893e-03,  2.6207906e-03,\n",
       "        -4.1318708e-03,  1.0546823e-03, -7.9928992e-05,  3.7957758e-03,\n",
       "         1.0082554e-03,  2.2532979e-03, -4.3917056e-03,  5.5726990e-04,\n",
       "        -3.3650445e-04,  4.8120120e-03, -4.2633368e-03, -2.3502517e-03,\n",
       "        -2.3672327e-03,  1.1150489e-03, -2.5857512e-03,  1.3173708e-04,\n",
       "         2.1816629e-03,  4.0628316e-04,  4.3863677e-03, -2.7622103e-03,\n",
       "        -3.6959329e-03,  3.5373478e-03,  1.1691662e-03,  4.0964829e-03,\n",
       "        -2.9757828e-04,  1.7918715e-03,  2.5188678e-04, -4.8823883e-03,\n",
       "         5.7644170e-04,  2.4186803e-03, -1.2610006e-04,  4.6442687e-03,\n",
       "         4.3452792e-03,  3.6194199e-03,  1.8303450e-03,  3.6938384e-03,\n",
       "        -1.3333337e-03, -8.6320104e-04, -8.2696410e-05, -1.9947115e-04,\n",
       "         1.9372583e-03, -2.1375255e-03,  3.6865298e-03,  4.1739964e-03,\n",
       "        -2.1104068e-03,  6.6911499e-04, -4.9752938e-03, -7.7442260e-04]],\n",
       "      dtype=float32)"
      ]
     },
     "execution_count": 10,
     "metadata": {},
     "output_type": "execute_result"
    }
   ],
   "source": [
    "# What does the unaveraged version look like?\n",
    "X_train_vect[0]"
   ]
  },
  {
   "cell_type": "code",
   "execution_count": 11,
   "metadata": {},
   "outputs": [
    {
     "data": {
      "text/plain": [
       "array([ 5.4272678e-04, -1.5297036e-03, -3.1510997e-03, -2.0462256e-03,\n",
       "       -6.8847928e-04,  1.4440207e-03,  6.0950581e-04,  2.2677360e-03,\n",
       "       -2.6647714e-03,  2.6886708e-03, -2.5065949e-03, -3.2517365e-03,\n",
       "       -5.7582150e-04,  1.4874248e-03,  3.5149299e-03, -1.8657855e-04,\n",
       "        8.1190869e-05,  2.5700219e-03,  9.4861723e-05, -1.3684977e-03,\n",
       "       -2.2762862e-04, -1.0003566e-03, -4.1132811e-03,  4.9238640e-04,\n",
       "        2.6610540e-03, -3.4013302e-03,  8.2918175e-04,  4.1657281e-03,\n",
       "        1.3195022e-03, -1.7748127e-03,  7.1233278e-04, -1.1018617e-04,\n",
       "       -2.1567169e-04, -9.6434070e-04,  1.3809546e-03, -1.1269862e-04,\n",
       "        1.8898126e-03, -2.5859007e-03, -4.1592838e-03,  7.4108841e-04,\n",
       "        8.4729301e-04, -3.1692674e-05,  2.5866497e-03, -8.2523812e-04,\n",
       "        4.7518490e-03,  2.8385362e-03,  2.7966280e-03, -3.2381150e-03,\n",
       "       -2.5861126e-03,  4.4759358e-03, -8.7965396e-04,  1.2106941e-03,\n",
       "       -1.1716789e-03,  2.2768169e-03,  1.0357732e-03,  1.6360080e-03,\n",
       "        2.8028744e-03, -1.0530448e-03,  2.8404221e-04, -7.2193681e-04,\n",
       "        9.7592850e-04,  3.5996838e-03, -1.4397362e-03,  6.7450968e-04,\n",
       "       -9.3855249e-04,  2.5606134e-03, -3.7031504e-03, -8.9105777e-04,\n",
       "        1.1720629e-03, -1.6899377e-03,  4.2876173e-03, -3.9863749e-05,\n",
       "       -4.0019574e-03, -3.5630440e-04, -1.0050458e-03,  3.2305757e-03,\n",
       "       -2.1233498e-03,  9.9826907e-04,  1.9261902e-03, -3.9505577e-03,\n",
       "        1.5932955e-03,  7.5681013e-04, -1.3034046e-04,  3.7072962e-03,\n",
       "       -2.1291804e-04,  3.8916869e-03,  1.9822530e-03,  1.7854623e-03,\n",
       "       -1.9986483e-03, -1.5537592e-03, -2.3138693e-03,  2.1916882e-03,\n",
       "       -1.2364262e-03, -2.6964059e-04,  4.0352903e-04,  3.1005926e-03,\n",
       "        9.7471476e-04, -2.1224818e-03, -3.0111237e-03, -1.3122300e-03],\n",
       "      dtype=float32)"
      ]
     },
     "execution_count": 11,
     "metadata": {},
     "output_type": "execute_result"
    }
   ],
   "source": [
    "# What does the averaged version look like?\n",
    "X_train_vect_avg[0]"
   ]
  },
  {
   "cell_type": "markdown",
   "metadata": {},
   "source": [
    "### Fit RandomForestClassifier On Top Of Word Vectors"
   ]
  },
  {
   "cell_type": "code",
   "execution_count": 12,
   "metadata": {},
   "outputs": [],
   "source": [
    "# Instantiate and fit a basic Random Forest model on top of the vectors\n",
    "from sklearn.ensemble import RandomForestClassifier\n",
    "\n",
    "rf = RandomForestClassifier()\n",
    "rf_model = rf.fit(X_train_vect_avg, y_train.values.ravel())"
   ]
  },
  {
   "cell_type": "code",
   "execution_count": 13,
   "metadata": {},
   "outputs": [],
   "source": [
    "# Use the trained model to make predictions on the test data\n",
    "y_pred = rf_model.predict(X_test_vect_avg)"
   ]
  },
  {
   "cell_type": "code",
   "execution_count": 14,
   "metadata": {},
   "outputs": [
    {
     "name": "stdout",
     "output_type": "stream",
     "text": [
      "Precision: 0.548 / Recall: 0.244 / Accuracy: 0.859\n"
     ]
    }
   ],
   "source": [
    "# Evaluate the predictions of the model on the holdout test set\n",
    "from sklearn.metrics import precision_score, recall_score\n",
    "\n",
    "precision = precision_score(y_test, y_pred)\n",
    "recall = recall_score(y_test, y_pred)\n",
    "print('Precision: {} / Recall: {} / Accuracy: {}'.format(\n",
    "    round(precision, 3), round(recall, 3), round((y_pred==y_test['label']).sum()/len(y_pred), 3)))"
   ]
  },
  {
   "cell_type": "code",
   "execution_count": null,
   "metadata": {},
   "outputs": [],
   "source": []
  }
 ],
 "metadata": {
  "kernelspec": {
   "display_name": "Python 3",
   "language": "python",
   "name": "python3"
  },
  "language_info": {
   "codemirror_mode": {
    "name": "ipython",
    "version": 3
   },
   "file_extension": ".py",
   "mimetype": "text/x-python",
   "name": "python",
   "nbconvert_exporter": "python",
   "pygments_lexer": "ipython3",
   "version": "3.8.5"
  }
 },
 "nbformat": 4,
 "nbformat_minor": 2
}
